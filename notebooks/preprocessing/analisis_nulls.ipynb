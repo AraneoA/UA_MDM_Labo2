{
 "cells": [
  {
   "cell_type": "code",
   "execution_count": 1,
   "metadata": {},
   "outputs": [],
   "source": [
    "# Importación de Librerías\n",
    "import numpy as np \n",
    "import pandas as pd \n",
    "import matplotlib.pyplot as plt\n",
    "import seaborn as sns \n",
    "from wordcloud import WordCloud\n",
    "\n",
    "%matplotlib inline\n",
    "pd.set_option('display.max_columns', 30)\n",
    "plt.rcParams['figure.figsize'] = [12.0, 8.0]"
   ]
  },
  {
   "cell_type": "code",
   "execution_count": 25,
   "metadata": {},
   "outputs": [
    {
     "data": {
      "image/png": "[encoded data removed]",
      "text/plain": [
       "<Figure size 1200x800 with 1 Axes>"
      ]
     },
     "metadata": {},
     "output_type": "display_data"
    }
   ],
   "source": [
    "train= pd.read_csv(\"../petfinder-adoption-prediction/train/train.csv\")\n",
    "train['AdoptionSpeed'].value_counts().sort_index(ascending = False).plot(kind='barh', color='teal');\n",
    "plt.title('Adoption speed classes counts');\n",
    "\n",
    "\n"
   ]
  },
  {
   "cell_type": "code",
   "execution_count": 26,
   "metadata": {},
   "outputs": [
    {
     "data": {
      "text/html": [
       "<div>\n",
       "<style scoped>\n",
       "    .dataframe tbody tr th:only-of-type {\n",
       "        vertical-align: middle;\n",
       "    }\n",
       "\n",
       "    .dataframe tbody tr th {\n",
       "        vertical-align: top;\n",
       "    }\n",
       "\n",
       "    .dataframe thead th {\n",
       "        text-align: right;\n",
       "    }\n",
       "</style>\n",
       "<table border=\"1\" class=\"dataframe\">\n",
       "  <thead>\n",
       "    <tr style=\"text-align: right;\">\n",
       "      <th></th>\n",
       "      <th>Type</th>\n",
       "      <th>Name</th>\n",
       "      <th>Age</th>\n",
       "      <th>Breed1</th>\n",
       "      <th>Breed2</th>\n",
       "      <th>Gender</th>\n",
       "      <th>Color1</th>\n",
       "      <th>Color2</th>\n",
       "      <th>Color3</th>\n",
       "      <th>MaturitySize</th>\n",
       "      <th>FurLength</th>\n",
       "      <th>Vaccinated</th>\n",
       "      <th>Dewormed</th>\n",
       "      <th>Sterilized</th>\n",
       "      <th>Health</th>\n",
       "      <th>Quantity</th>\n",
       "      <th>Fee</th>\n",
       "      <th>State</th>\n",
       "      <th>RescuerID</th>\n",
       "      <th>VideoAmt</th>\n",
       "      <th>Description</th>\n",
       "      <th>PetID</th>\n",
       "      <th>PhotoAmt</th>\n",
       "      <th>AdoptionSpeed</th>\n",
       "    </tr>\n",
       "  </thead>\n",
       "  <tbody>\n",
       "    <tr>\n",
       "      <th>0</th>\n",
       "      <td>2</td>\n",
       "      <td>Nibble</td>\n",
       "      <td>3</td>\n",
       "      <td>299</td>\n",
       "      <td>0</td>\n",
       "      <td>1</td>\n",
       "      <td>1</td>\n",
       "      <td>7</td>\n",
       "      <td>0</td>\n",
       "      <td>1</td>\n",
       "      <td>1</td>\n",
       "      <td>2</td>\n",
       "      <td>2</td>\n",
       "      <td>2</td>\n",
       "      <td>1</td>\n",
       "      <td>1</td>\n",
       "      <td>100</td>\n",
       "      <td>41326</td>\n",
       "      <td>8480853f516546f6cf33aa88cd76c379</td>\n",
       "      <td>0</td>\n",
       "      <td>Nibble is a 3+ month old ball of cuteness. He ...</td>\n",
       "      <td>86e1089a3</td>\n",
       "      <td>1.0</td>\n",
       "      <td>2</td>\n",
       "    </tr>\n",
       "    <tr>\n",
       "      <th>1</th>\n",
       "      <td>2</td>\n",
       "      <td>No Name Yet</td>\n",
       "      <td>1</td>\n",
       "      <td>265</td>\n",
       "      <td>0</td>\n",
       "      <td>1</td>\n",
       "      <td>1</td>\n",
       "      <td>2</td>\n",
       "      <td>0</td>\n",
       "      <td>2</td>\n",
       "      <td>2</td>\n",
       "      <td>3</td>\n",
       "      <td>3</td>\n",
       "      <td>3</td>\n",
       "      <td>1</td>\n",
       "      <td>1</td>\n",
       "      <td>0</td>\n",
       "      <td>41401</td>\n",
       "      <td>3082c7125d8fb66f7dd4bff4192c8b14</td>\n",
       "      <td>0</td>\n",
       "      <td>I just found it alone yesterday near my apartm...</td>\n",
       "      <td>6296e909a</td>\n",
       "      <td>2.0</td>\n",
       "      <td>0</td>\n",
       "    </tr>\n",
       "    <tr>\n",
       "      <th>2</th>\n",
       "      <td>1</td>\n",
       "      <td>Brisco</td>\n",
       "      <td>1</td>\n",
       "      <td>307</td>\n",
       "      <td>0</td>\n",
       "      <td>1</td>\n",
       "      <td>2</td>\n",
       "      <td>7</td>\n",
       "      <td>0</td>\n",
       "      <td>2</td>\n",
       "      <td>2</td>\n",
       "      <td>1</td>\n",
       "      <td>1</td>\n",
       "      <td>2</td>\n",
       "      <td>1</td>\n",
       "      <td>1</td>\n",
       "      <td>0</td>\n",
       "      <td>41326</td>\n",
       "      <td>fa90fa5b1ee11c86938398b60abc32cb</td>\n",
       "      <td>0</td>\n",
       "      <td>Their pregnant mother was dumped by her irresp...</td>\n",
       "      <td>3422e4906</td>\n",
       "      <td>7.0</td>\n",
       "      <td>3</td>\n",
       "    </tr>\n",
       "    <tr>\n",
       "      <th>3</th>\n",
       "      <td>1</td>\n",
       "      <td>Miko</td>\n",
       "      <td>4</td>\n",
       "      <td>307</td>\n",
       "      <td>0</td>\n",
       "      <td>2</td>\n",
       "      <td>1</td>\n",
       "      <td>2</td>\n",
       "      <td>0</td>\n",
       "      <td>2</td>\n",
       "      <td>1</td>\n",
       "      <td>1</td>\n",
       "      <td>1</td>\n",
       "      <td>2</td>\n",
       "      <td>1</td>\n",
       "      <td>1</td>\n",
       "      <td>150</td>\n",
       "      <td>41401</td>\n",
       "      <td>9238e4f44c71a75282e62f7136c6b240</td>\n",
       "      <td>0</td>\n",
       "      <td>Good guard dog, very alert, active, obedience ...</td>\n",
       "      <td>5842f1ff5</td>\n",
       "      <td>8.0</td>\n",
       "      <td>2</td>\n",
       "    </tr>\n",
       "    <tr>\n",
       "      <th>4</th>\n",
       "      <td>1</td>\n",
       "      <td>Hunter</td>\n",
       "      <td>1</td>\n",
       "      <td>307</td>\n",
       "      <td>0</td>\n",
       "      <td>1</td>\n",
       "      <td>1</td>\n",
       "      <td>0</td>\n",
       "      <td>0</td>\n",
       "      <td>2</td>\n",
       "      <td>1</td>\n",
       "      <td>2</td>\n",
       "      <td>2</td>\n",
       "      <td>2</td>\n",
       "      <td>1</td>\n",
       "      <td>1</td>\n",
       "      <td>0</td>\n",
       "      <td>41326</td>\n",
       "      <td>95481e953f8aed9ec3d16fc4509537e8</td>\n",
       "      <td>0</td>\n",
       "      <td>This handsome yet cute boy is up for adoption....</td>\n",
       "      <td>850a43f90</td>\n",
       "      <td>3.0</td>\n",
       "      <td>2</td>\n",
       "    </tr>\n",
       "  </tbody>\n",
       "</table>\n",
       "</div>"
      ],
      "text/plain": [
       "   Type         Name  Age  Breed1  Breed2  Gender  Color1  Color2  Color3  \\\n",
       "0     2       Nibble    3     299       0       1       1       7       0   \n",
       "1     2  No Name Yet    1     265       0       1       1       2       0   \n",
       "2     1       Brisco    1     307       0       1       2       7       0   \n",
       "3     1         Miko    4     307       0       2       1       2       0   \n",
       "4     1       Hunter    1     307       0       1       1       0       0   \n",
       "\n",
       "   MaturitySize  FurLength  Vaccinated  Dewormed  Sterilized  Health  \\\n",
       "0             1          1           2         2           2       1   \n",
       "1             2          2           3         3           3       1   \n",
       "2             2          2           1         1           2       1   \n",
       "3             2          1           1         1           2       1   \n",
       "4             2          1           2         2           2       1   \n",
       "\n",
       "   Quantity  Fee  State                         RescuerID  VideoAmt  \\\n",
       "0         1  100  41326  8480853f516546f6cf33aa88cd76c379         0   \n",
       "1         1    0  41401  3082c7125d8fb66f7dd4bff4192c8b14         0   \n",
       "2         1    0  41326  fa90fa5b1ee11c86938398b60abc32cb         0   \n",
       "3         1  150  41401  9238e4f44c71a75282e62f7136c6b240         0   \n",
       "4         1    0  41326  95481e953f8aed9ec3d16fc4509537e8         0   \n",
       "\n",
       "                                         Description      PetID  PhotoAmt  \\\n",
       "0  Nibble is a 3+ month old ball of cuteness. He ...  86e1089a3       1.0   \n",
       "1  I just found it alone yesterday near my apartm...  6296e909a       2.0   \n",
       "2  Their pregnant mother was dumped by her irresp...  3422e4906       7.0   \n",
       "3  Good guard dog, very alert, active, obedience ...  5842f1ff5       8.0   \n",
       "4  This handsome yet cute boy is up for adoption....  850a43f90       3.0   \n",
       "\n",
       "   AdoptionSpeed  \n",
       "0              2  \n",
       "1              0  \n",
       "2              3  \n",
       "3              2  \n",
       "4              2  "
      ]
     },
     "execution_count": 26,
     "metadata": {},
     "output_type": "execute_result"
    }
   ],
   "source": [
    "train.head()"
   ]
  },
  {
   "cell_type": "code",
   "execution_count": 27,
   "metadata": {},
   "outputs": [
    {
     "name": "stdout",
     "output_type": "stream",
     "text": [
      "Index(['Type', 'Name', 'Age', 'Breed1', 'Breed2', 'Gender', 'Color1', 'Color2',\n",
      "       'Color3', 'MaturitySize', 'FurLength', 'Vaccinated', 'Dewormed',\n",
      "       'Sterilized', 'Health', 'Quantity', 'Fee', 'State', 'RescuerID',\n",
      "       'VideoAmt', 'Description', 'PetID', 'PhotoAmt', 'AdoptionSpeed'],\n",
      "      dtype='object')\n",
      "(14993, 24)\n"
     ]
    }
   ],
   "source": [
    "print(train.columns)\n",
    "print(train.shape)"
   ]
  },
  {
   "cell_type": "code",
   "execution_count": 28,
   "metadata": {},
   "outputs": [
    {
     "data": {
      "text/plain": [
       "(14993, 24)"
      ]
     },
     "execution_count": 28,
     "metadata": {},
     "output_type": "execute_result"
    }
   ],
   "source": [
    "# Quitamos duplicados\n",
    "train.drop_duplicates(inplace=True) # inplace=True es equivalente a df_subset = df_subset.drop_duplicates()\n",
    "train.shape"
   ]
  },
  {
   "cell_type": "code",
   "execution_count": 29,
   "metadata": {},
   "outputs": [
    {
     "data": {
      "text/plain": [
       "Type               int64\n",
       "Name              object\n",
       "Age                int64\n",
       "Breed1             int64\n",
       "Breed2             int64\n",
       "Gender             int64\n",
       "Color1             int64\n",
       "Color2             int64\n",
       "Color3             int64\n",
       "MaturitySize       int64\n",
       "FurLength          int64\n",
       "Vaccinated         int64\n",
       "Dewormed           int64\n",
       "Sterilized         int64\n",
       "Health             int64\n",
       "Quantity           int64\n",
       "Fee                int64\n",
       "State              int64\n",
       "RescuerID         object\n",
       "VideoAmt           int64\n",
       "Description       object\n",
       "PetID             object\n",
       "PhotoAmt         float64\n",
       "AdoptionSpeed      int64\n",
       "dtype: object"
      ]
     },
     "execution_count": 29,
     "metadata": {},
     "output_type": "execute_result"
    }
   ],
   "source": [
    "train.dtypes"
   ]
  },
  {
   "cell_type": "code",
   "execution_count": 30,
   "metadata": {},
   "outputs": [
    {
     "name": "stdout",
     "output_type": "stream",
     "text": [
      "📊 Columnas numéricas: 20\n",
      "🔤 Columnas categóricas: 4\n",
      " En total son  24 columns\n"
     ]
    },
    {
     "name": "stderr",
     "output_type": "stream",
     "text": [
      "C:\\Users\\Gloria\\AppData\\Local\\Temp\\ipykernel_5888\\1927118422.py:2: FutureWarning: errors='ignore' is deprecated and will raise in a future version. Use to_numeric without passing `errors` and catch exceptions explicitly instead\n",
      "  train = train.apply(pd.to_numeric, errors='ignore')\n"
     ]
    }
   ],
   "source": [
    "# cambiamos las columnas a numérico. las que no se pueden cambiar quedan strings\n",
    "train = train.apply(pd.to_numeric, errors='ignore')\n",
    "\n",
    "# Contamos las columnas numéricas y categóricas\n",
    "num_cols = train.select_dtypes(include=['number']).shape[1]\n",
    "cat_cols = train.select_dtypes(include=['object', 'category']).shape[1]\n",
    "\n",
    "# Mostramos el resultado\n",
    "print(f\"📊 Columnas numéricas: {num_cols}\")\n",
    "print(f\"🔤 Columnas categóricas: {cat_cols}\")\n",
    "print(f' En total son ', len(train.columns), 'columns')"
   ]
  },
  {
   "cell_type": "markdown",
   "metadata": {},
   "source": [
    "## Tareas a Realizar\n",
    "\n",
    "#### Pre-procesamiento:\n",
    "\n",
    "* Chequear Nulos y Decidir si Imputar o Descartar\n",
    "* Chequear Variables Categóricas y convertirlas en Numéricas\n",
    "* Estandarizar o Normalizar\n",
    "\n",
    "#### Ideas para EDA:\n",
    "\n",
    "* Analizar la Raza de las Mascotas\n",
    "* Analizar el Género\n",
    "* Analizar los 3 Colores Informados para cada Mascota\n",
    "* Estudiar las variables de Salud: Vacunación, Esterilización, Desparacitación\n",
    "* Entender el impacto del Fee cobrado\n",
    "* Estudiar las Regiones Geográficas disponibles\n",
    "* Analizar el impacto de tener Fotos y/o Videos\n",
    "\n",
    "Todos estos análisis pueden hacerse en función de la Especie (Gato/Perro) y respecto al Target\n",
    "\n"
   ]
  },
  {
   "cell_type": "code",
   "execution_count": 31,
   "metadata": {},
   "outputs": [
    {
     "data": {
      "text/plain": [
       "Name\n",
       "Baby                      66\n",
       "Lucky                     64\n",
       "No Name                   54\n",
       "Brownie                   54\n",
       "Mimi                      52\n",
       "                          ..\n",
       "Maroo                      1\n",
       "4 PUPPIES FOR ADOPTION     1\n",
       "Trish                      1\n",
       "Lab Mix Puppy 2            1\n",
       "Fili                       1\n",
       "Name: count, Length: 9059, dtype: int64"
      ]
     },
     "execution_count": 31,
     "metadata": {},
     "output_type": "execute_result"
    }
   ],
   "source": [
    "train.Name.value_counts() # podemos visualizar que hay muchos que no tienen nombre y no aparecen nulos \n",
    "                            #porque les pusieron por nombre No Name \n",
    "                            # ver los que tienen mas de una columna\n"
   ]
  },
  {
   "cell_type": "code",
   "execution_count": 32,
   "metadata": {},
   "outputs": [
    {
     "name": "stdout",
     "output_type": "stream",
     "text": [
      "   Type    Name  Age  Breed1  Breed2  Gender  Color1  Color2  Color3  \\\n",
      "2     1  Brisco    1     307       0       1       2       7       0   \n",
      "3     1    Miko    4     307       0       2       1       2       0   \n",
      "4     1  Hunter    1     307       0       1       1       0       0   \n",
      "\n",
      "   MaturitySize  FurLength  Vaccinated  Dewormed  Sterilized  Health  \\\n",
      "2             2          2           1         1           2       1   \n",
      "3             2          1           1         1           2       1   \n",
      "4             2          1           2         2           2       1   \n",
      "\n",
      "   Quantity  Fee  State                         RescuerID  VideoAmt  \\\n",
      "2         1    0  41326  fa90fa5b1ee11c86938398b60abc32cb         0   \n",
      "3         1  150  41401  9238e4f44c71a75282e62f7136c6b240         0   \n",
      "4         1    0  41326  95481e953f8aed9ec3d16fc4509537e8         0   \n",
      "\n",
      "                                         Description      PetID  PhotoAmt  \\\n",
      "2  Their pregnant mother was dumped by her irresp...  3422e4906       7.0   \n",
      "3  Good guard dog, very alert, active, obedience ...  5842f1ff5       8.0   \n",
      "4  This handsome yet cute boy is up for adoption....  850a43f90       3.0   \n",
      "\n",
      "   AdoptionSpeed  \n",
      "2              3  \n",
      "3              2  \n",
      "4              2      Type         Name  Age  Breed1  Breed2  Gender  Color1  Color2  Color3  \\\n",
      "0     2       Nibble    3     299       0       1       1       7       0   \n",
      "1     2  No Name Yet    1     265       0       1       1       2       0   \n",
      "5     2          NaN    3     266       0       2       5       6       0   \n",
      "\n",
      "   MaturitySize  FurLength  Vaccinated  Dewormed  Sterilized  Health  \\\n",
      "0             1          1           2         2           2       1   \n",
      "1             2          2           3         3           3       1   \n",
      "5             2          1           2         2           2       1   \n",
      "\n",
      "   Quantity  Fee  State                         RescuerID  VideoAmt  \\\n",
      "0         1  100  41326  8480853f516546f6cf33aa88cd76c379         0   \n",
      "1         1    0  41401  3082c7125d8fb66f7dd4bff4192c8b14         0   \n",
      "5         1    0  41326  22fe332bf9c924d4718005891c63fbed         0   \n",
      "\n",
      "                                         Description      PetID  PhotoAmt  \\\n",
      "0  Nibble is a 3+ month old ball of cuteness. He ...  86e1089a3       1.0   \n",
      "1  I just found it alone yesterday near my apartm...  6296e909a       2.0   \n",
      "5  This is a stray kitten that came to my house. ...  d24c30b4b       2.0   \n",
      "\n",
      "   AdoptionSpeed  \n",
      "0              2  \n",
      "1              0  \n",
      "5              2  \n"
     ]
    }
   ],
   "source": [
    "#Agrupamos por especie (perro=1, gato=2). Luego pedimos ver los casos nulos por categoria.\n",
    "perros = train[train[\"Type\"] == 1]\n",
    "gatos = train[train[\"Type\"] == 2]\n",
    "print(perros.head(3), gatos.head(3))"
   ]
  },
  {
   "cell_type": "code",
   "execution_count": 33,
   "metadata": {},
   "outputs": [
    {
     "name": "stdout",
     "output_type": "stream",
     "text": [
      " hay  1953 gatos sin nombre\n",
      "    Type     Name  Age\n",
      "5      2      NaN    3\n",
      "8      2      NaN    2\n",
      "19     2      NaN    1\n",
      "26     2  No Name    2\n",
      "27     2  No Name    1\n"
     ]
    }
   ],
   "source": [
    "gatos_nulos = train[((train[\"Type\"] == 2) & (train['Name'].isna()))|((train[\"Type\"] == 2) & (train['Name']== 'No Name'))][['Type',\"Name\", \"Age\"]]\n",
    "gatos_sin_nombre= gatos_nulos.size\n",
    "print(f' hay ', gatos_sin_nombre, 'gatos sin nombre')\n",
    "print(gatos_nulos.head())"
   ]
  },
  {
   "cell_type": "code",
   "execution_count": 34,
   "metadata": {},
   "outputs": [
    {
     "name": "stdout",
     "output_type": "stream",
     "text": [
      " hay  2004 perros sin nombre\n",
      "     Type Name  Age\n",
      "79      1  NaN    1\n",
      "92      1  NaN    1\n",
      "110     1  NaN    2\n",
      "113     1  NaN  120\n",
      "120     1  NaN    3\n"
     ]
    }
   ],
   "source": [
    "perros_nulos = train[((train[\"Type\"] == 1) & (train['Name'].isna()))|((train[\"Type\"] == 1) & (train['Name']== 'No Name'))][['Type',\"Name\", \"Age\"]]\n",
    "perros_sin_nombre= perros_nulos.size\n",
    "print(f' hay ', perros_sin_nombre, 'perros sin nombre')\n",
    "print(perros_nulos.head())"
   ]
  },
  {
   "cell_type": "markdown",
   "metadata": {},
   "source": [
    "Se decide no imputar los nombres, después se puede visualizar si los que tienen nombre son adoptados antes o después. "
   ]
  },
  {
   "cell_type": "code",
   "execution_count": 35,
   "metadata": {},
   "outputs": [
    {
     "name": "stdout",
     "output_type": "stream",
     "text": [
      "Type       1     2  Total\n",
      "Breed1                   \n",
      "0          4     1      5\n",
      "1          2     0      2\n",
      "3          1     0      1\n",
      "5          2     0      2\n",
      "7          1     0      1\n",
      "...      ...   ...    ...\n",
      "304        0     7      7\n",
      "305        0     8      8\n",
      "306        0    56     56\n",
      "307     5923     4   5927\n",
      "Total   8132  6861  14993\n",
      "\n",
      "[177 rows x 3 columns]\n"
     ]
    }
   ],
   "source": [
    "tabla_raza = pd.crosstab(train['Breed1'], train['Type'], margins=True, margins_name=\"Total\")\n",
    "print(tabla_raza)"
   ]
  },
  {
   "cell_type": "code",
   "execution_count": 36,
   "metadata": {},
   "outputs": [
    {
     "data": {
      "text/plain": [
       "(14993, 24)"
      ]
     },
     "execution_count": 36,
     "metadata": {},
     "output_type": "execute_result"
    }
   ],
   "source": [
    "train.shape"
   ]
  },
  {
   "cell_type": "code",
   "execution_count": 40,
   "metadata": {},
   "outputs": [
    {
     "data": {
      "text/plain": [
       "Type  Gender\n",
       "1     1         3005\n",
       "      2         4252\n",
       "      3          875\n",
       "2     1         2531\n",
       "      2         3025\n",
       "      3         1305\n",
       "dtype: int64"
      ]
     },
     "execution_count": 40,
     "metadata": {},
     "output_type": "execute_result"
    }
   ],
   "source": [
    "train.groupby(['Type', 'Gender']).size()"
   ]
  },
  {
   "cell_type": "code",
   "execution_count": null,
   "metadata": {},
   "outputs": [],
   "source": [
    "cohen_kappa_score(y_test,y_pred, weights = 'quadratic')\n",
    "from sklearn.metrics import cohen_kappa_score"
   ]
  },
  {
   "cell_type": "markdown",
   "metadata": {},
   "source": [
    "notebookscohen_kappa_score(y_test,y_pred, weights = 'quadratic')\n",
    "from sklearn.metrics import cohen_kappa_score"
   ]
  }
 ],
 "metadata": {
  "kernelspec": {
   "display_name": "ldi2",
   "language": "python",
   "name": "python3"
  },
  "language_info": {
   "codemirror_mode": {
    "name": "ipython",
    "version": 3
   },
   "file_extension": ".py",
   "mimetype": "text/x-python",
   "name": "python",
   "nbconvert_exporter": "python",
   "pygments_lexer": "ipython3",
   "version": "3.12.9"
  }
 },
 "nbformat": 4,
 "nbformat_minor": 2
}
